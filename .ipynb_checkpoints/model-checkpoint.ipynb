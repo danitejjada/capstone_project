{
 "cells": [
  {
   "cell_type": "code",
   "execution_count": 11,
   "metadata": {},
   "outputs": [],
   "source": [
    "from model_code import * \n",
    "from top_jobs import * "
   ]
  },
  {
   "cell_type": "markdown",
   "metadata": {},
   "source": [
    "# Find Your Ideal Job "
   ]
  },
  {
   "cell_type": "markdown",
   "metadata": {},
   "source": [
    "## Inputs:\n",
    "\n",
    "__1. Ideal Job Url__\n",
    "- Find your ideal job on Indeed and input the url of the job description page\n",
    "\n",
    "(Type =  string)\n"
   ]
  },
  {
   "cell_type": "code",
   "execution_count": 12,
   "metadata": {},
   "outputs": [],
   "source": [
    "ideal_url = 'https://www.indeed.com/viewjob?jk=c7990915d67d7e5d&tk=1d0ctj5ds0hr8003&from=serp&vjs=3' "
   ]
  },
  {
   "cell_type": "markdown",
   "metadata": {},
   "source": [
    "__2. Number to Display__\n",
    "- Limit your search by selecting the number of jobs you would like to be displayed\n",
    "- They will be displayed from most similar to least similar to the ideal job you selected\n",
    "\n",
    "(Type = int)\n"
   ]
  },
  {
   "cell_type": "code",
   "execution_count": 13,
   "metadata": {},
   "outputs": [],
   "source": [
    "top_num = 10 "
   ]
  },
  {
   "cell_type": "markdown",
   "metadata": {},
   "source": [
    "__3. Job (Optional)__\n",
    "- If you would like to search for a specific job you can! \n",
    "- Available jobs to query: 'Data Scientist', 'Machine Learning Engineer', 'Software Developer', 'Full Stack Developer', 'Business Intelligence Analyst', 'Data Engineer', 'Data Architect', 'Dev Ops', 'Python' \n",
    "\n",
    "(Type = String)"
   ]
  },
  {
   "cell_type": "code",
   "execution_count": 14,
   "metadata": {},
   "outputs": [],
   "source": [
    "job = 'Data Scientist'"
   ]
  },
  {
   "cell_type": "markdown",
   "metadata": {},
   "source": [
    "__4. City __\n",
    "- If you would like to search for jobs in a specific city, you can!\n",
    "\n",
    "(Type = String)"
   ]
  },
  {
   "cell_type": "code",
   "execution_count": 15,
   "metadata": {},
   "outputs": [],
   "source": [
    "city = 'New York'"
   ]
  },
  {
   "cell_type": "markdown",
   "metadata": {},
   "source": [
    "__5. State__\n",
    "- If you would like to search for jobs in a specific state, you can!\n",
    " \n",
    "(Type = String)"
   ]
  },
  {
   "cell_type": "code",
   "execution_count": 16,
   "metadata": {},
   "outputs": [],
   "source": [
    "state = 'NY'"
   ]
  },
  {
   "cell_type": "markdown",
   "metadata": {},
   "source": [
    "__6. Skills__\n",
    "- If you would like to search for jobs that require specific skills, you can!\n",
    "- Available skills: 'r','python','java','c++','ruby','perl','matlab','javascript','scala','excel','tableau','d3js','sas','spss','d3','hadoop',  'mapreduce','spark','pig','hive','shark','zookeeper','flume','mahout','sql','nosql','hase','cassandra','mongodb','docker','aws'\n",
    "\n",
    "(Type = List of Strings)"
   ]
  },
  {
   "cell_type": "code",
   "execution_count": 17,
   "metadata": {},
   "outputs": [],
   "source": [
    "skills = ['python']"
   ]
  },
  {
   "cell_type": "markdown",
   "metadata": {},
   "source": [
    "__7. Stringency__ \n",
    "- Options: 'all', 'only', 'atleast'\n",
    "    - All: query jobs that have all of the skills in your skills list\n",
    "    - Only: query jobs that have only the skills featured in your skills list \n",
    "    - Atleast: query jobs that have at least one of the jobs featured in your skills set and can include skills not inlcluded in your skills set\n",
    "    \n",
    "(Type = String)"
   ]
  },
  {
   "cell_type": "code",
   "execution_count": 18,
   "metadata": {},
   "outputs": [],
   "source": [
    "stringency = 'atleast'"
   ]
  },
  {
   "cell_type": "markdown",
   "metadata": {},
   "source": [
    "# Results"
   ]
  },
  {
   "cell_type": "code",
   "execution_count": 19,
   "metadata": {
    "scrolled": true
   },
   "outputs": [],
   "source": [
    "results = top_jobs(ideal_url,top_num,job,city,state,skills, stringency)"
   ]
  },
  {
   "cell_type": "code",
   "execution_count": 20,
   "metadata": {},
   "outputs": [
    {
     "data": {
      "text/html": [
       "<div>\n",
       "<style scoped>\n",
       "    .dataframe tbody tr th:only-of-type {\n",
       "        vertical-align: middle;\n",
       "    }\n",
       "\n",
       "    .dataframe tbody tr th {\n",
       "        vertical-align: top;\n",
       "    }\n",
       "\n",
       "    .dataframe thead th {\n",
       "        text-align: right;\n",
       "    }\n",
       "</style>\n",
       "<table border=\"1\" class=\"dataframe\">\n",
       "  <thead>\n",
       "    <tr style=\"text-align: right;\">\n",
       "      <th></th>\n",
       "      <th>job_title</th>\n",
       "      <th>company</th>\n",
       "      <th>state</th>\n",
       "      <th>city</th>\n",
       "      <th>skills</th>\n",
       "      <th>url</th>\n",
       "    </tr>\n",
       "  </thead>\n",
       "  <tbody>\n",
       "    <tr>\n",
       "      <th>0</th>\n",
       "      <td>Data Scientist</td>\n",
       "      <td>AdTheorent</td>\n",
       "      <td>NY</td>\n",
       "      <td>New York</td>\n",
       "      <td>['spark', 'r', 'matlab', 'hadoop', 'sas', 'pyt...</td>\n",
       "      <td>https://www.indeed.com/rc/clk?jk=45ca64d0aef52...</td>\n",
       "    </tr>\n",
       "    <tr>\n",
       "      <th>1</th>\n",
       "      <td>Data Scientist - Bomoda</td>\n",
       "      <td>Weber Shandwick</td>\n",
       "      <td>NY</td>\n",
       "      <td>New York</td>\n",
       "      <td>['aws', 'spark', 'hadoop', 'python', 'hive', '...</td>\n",
       "      <td>https://www.indeed.com/rc/clk?jk=8efb3f406d4e8...</td>\n",
       "    </tr>\n",
       "    <tr>\n",
       "      <th>2</th>\n",
       "      <td>Data Scientist, People Analytics</td>\n",
       "      <td>WeWork</td>\n",
       "      <td>NY</td>\n",
       "      <td>New York</td>\n",
       "      <td>['r', 'sql', 'python']</td>\n",
       "      <td>https://www.indeed.com/rc/clk?jk=0a020fe52ecb3...</td>\n",
       "    </tr>\n",
       "    <tr>\n",
       "      <th>3</th>\n",
       "      <td>Data Scientist</td>\n",
       "      <td>IQ Workforce</td>\n",
       "      <td>NY</td>\n",
       "      <td>New York</td>\n",
       "      <td>['sas', 'r', 'tableau', 'spss', 'python']</td>\n",
       "      <td>https://www.indeed.com/rc/clk?jk=db3a2f5f266dc...</td>\n",
       "    </tr>\n",
       "    <tr>\n",
       "      <th>4</th>\n",
       "      <td>Data Scientist (Analytics)</td>\n",
       "      <td>Rockefeller Foundation</td>\n",
       "      <td>NY</td>\n",
       "      <td>New York</td>\n",
       "      <td>['r', 'excel', 'python']</td>\n",
       "      <td>https://www.indeed.com/rc/clk?jk=056da67a09d0e...</td>\n",
       "    </tr>\n",
       "    <tr>\n",
       "      <th>5</th>\n",
       "      <td>Data Analyst / Data Scientist</td>\n",
       "      <td>Defined Clarity</td>\n",
       "      <td>NY</td>\n",
       "      <td>New York</td>\n",
       "      <td>['perl', 'java', 'r', 'tableau', 'python', 'sql']</td>\n",
       "      <td>https://www.indeed.com/rc/clk?jk=f3196a8bc16ce...</td>\n",
       "    </tr>\n",
       "    <tr>\n",
       "      <th>6</th>\n",
       "      <td>Junior Data Scientist</td>\n",
       "      <td>Viacom</td>\n",
       "      <td>NY</td>\n",
       "      <td>New York</td>\n",
       "      <td>['spark', 'r', 'tableau', 'python', 'hive', 's...</td>\n",
       "      <td>https://www.indeed.com/rc/clk?jk=b25880be89992...</td>\n",
       "    </tr>\n",
       "    <tr>\n",
       "      <th>7</th>\n",
       "      <td>Data Scientist</td>\n",
       "      <td>Dstillery</td>\n",
       "      <td>NY</td>\n",
       "      <td>New York</td>\n",
       "      <td>['python']</td>\n",
       "      <td>https://www.indeed.com/rc/clk?jk=b070ab413cdd3...</td>\n",
       "    </tr>\n",
       "    <tr>\n",
       "      <th>8</th>\n",
       "      <td>Data Scientist</td>\n",
       "      <td>Capital One</td>\n",
       "      <td>NY</td>\n",
       "      <td>New York</td>\n",
       "      <td>['aws', 'spark', 'r', 'tableau', 'hadoop', 'sc...</td>\n",
       "      <td>https://www.indeed.com/rc/clk?jk=019a465461164...</td>\n",
       "    </tr>\n",
       "    <tr>\n",
       "      <th>9</th>\n",
       "      <td>Principal Data Scientist</td>\n",
       "      <td>ADP</td>\n",
       "      <td>NY</td>\n",
       "      <td>New York</td>\n",
       "      <td>['sas', 'excel', 'java', 'r', 'matlab', 'mahou...</td>\n",
       "      <td>https://www.indeed.com/rc/clk?jk=a5b57d1471fc1...</td>\n",
       "    </tr>\n",
       "  </tbody>\n",
       "</table>\n",
       "</div>"
      ],
      "text/plain": [
       "                          job_title                 company state      city  \\\n",
       "0                    Data Scientist              AdTheorent    NY  New York   \n",
       "1           Data Scientist - Bomoda         Weber Shandwick    NY  New York   \n",
       "2  Data Scientist, People Analytics                  WeWork    NY  New York   \n",
       "3                    Data Scientist            IQ Workforce    NY  New York   \n",
       "4        Data Scientist (Analytics)  Rockefeller Foundation    NY  New York   \n",
       "5     Data Analyst / Data Scientist         Defined Clarity    NY  New York   \n",
       "6             Junior Data Scientist                  Viacom    NY  New York   \n",
       "7                    Data Scientist               Dstillery    NY  New York   \n",
       "8                    Data Scientist             Capital One    NY  New York   \n",
       "9          Principal Data Scientist                     ADP    NY  New York   \n",
       "\n",
       "                                              skills  \\\n",
       "0  ['spark', 'r', 'matlab', 'hadoop', 'sas', 'pyt...   \n",
       "1  ['aws', 'spark', 'hadoop', 'python', 'hive', '...   \n",
       "2                             ['r', 'sql', 'python']   \n",
       "3          ['sas', 'r', 'tableau', 'spss', 'python']   \n",
       "4                           ['r', 'excel', 'python']   \n",
       "5  ['perl', 'java', 'r', 'tableau', 'python', 'sql']   \n",
       "6  ['spark', 'r', 'tableau', 'python', 'hive', 's...   \n",
       "7                                         ['python']   \n",
       "8  ['aws', 'spark', 'r', 'tableau', 'hadoop', 'sc...   \n",
       "9  ['sas', 'excel', 'java', 'r', 'matlab', 'mahou...   \n",
       "\n",
       "                                                 url  \n",
       "0  https://www.indeed.com/rc/clk?jk=45ca64d0aef52...  \n",
       "1  https://www.indeed.com/rc/clk?jk=8efb3f406d4e8...  \n",
       "2  https://www.indeed.com/rc/clk?jk=0a020fe52ecb3...  \n",
       "3  https://www.indeed.com/rc/clk?jk=db3a2f5f266dc...  \n",
       "4  https://www.indeed.com/rc/clk?jk=056da67a09d0e...  \n",
       "5  https://www.indeed.com/rc/clk?jk=f3196a8bc16ce...  \n",
       "6  https://www.indeed.com/rc/clk?jk=b25880be89992...  \n",
       "7  https://www.indeed.com/rc/clk?jk=b070ab413cdd3...  \n",
       "8  https://www.indeed.com/rc/clk?jk=019a465461164...  \n",
       "9  https://www.indeed.com/rc/clk?jk=a5b57d1471fc1...  "
      ]
     },
     "execution_count": 20,
     "metadata": {},
     "output_type": "execute_result"
    }
   ],
   "source": [
    "results "
   ]
  },
  {
   "cell_type": "code",
   "execution_count": null,
   "metadata": {},
   "outputs": [],
   "source": []
  },
  {
   "cell_type": "code",
   "execution_count": null,
   "metadata": {},
   "outputs": [],
   "source": []
  },
  {
   "cell_type": "code",
   "execution_count": null,
   "metadata": {},
   "outputs": [],
   "source": []
  },
  {
   "cell_type": "code",
   "execution_count": null,
   "metadata": {},
   "outputs": [],
   "source": []
  },
  {
   "cell_type": "code",
   "execution_count": null,
   "metadata": {},
   "outputs": [],
   "source": []
  }
 ],
 "metadata": {
  "kernelspec": {
   "display_name": "Python 3",
   "language": "python",
   "name": "python3"
  },
  "language_info": {
   "codemirror_mode": {
    "name": "ipython",
    "version": 3
   },
   "file_extension": ".py",
   "mimetype": "text/x-python",
   "name": "python",
   "nbconvert_exporter": "python",
   "pygments_lexer": "ipython3",
   "version": "3.6.4"
  }
 },
 "nbformat": 4,
 "nbformat_minor": 2
}
