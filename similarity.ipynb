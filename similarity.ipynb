{
 "cells": [
  {
   "cell_type": "code",
   "execution_count": 65,
   "metadata": {},
   "outputs": [],
   "source": [
    "import pandas as pd"
   ]
  },
  {
   "cell_type": "code",
   "execution_count": null,
   "metadata": {},
   "outputs": [],
   "source": []
  },
  {
   "cell_type": "code",
   "execution_count": 47,
   "metadata": {},
   "outputs": [],
   "source": [
    "skill_set = ['r','python','java','c++','ruby','perl','matlab','javascript','scala','excel','tableau',\n",
    "             'd3js','sas','spss','d3','hadoop','mapreduce','spark',\n",
    "             'pig','hive','shark','zookeeper','flume','mahout',\n",
    "             'sql','nosql','hase','cassandra','mongodb','docker','aws']"
   ]
  },
  {
   "cell_type": "code",
   "execution_count": 32,
   "metadata": {},
   "outputs": [],
   "source": [
    "df = pd.read_csv('data_scientist.csv')"
   ]
  },
  {
   "cell_type": "code",
   "execution_count": 6,
   "metadata": {},
   "outputs": [
    {
     "data": {
      "text/html": [
       "<div>\n",
       "<style scoped>\n",
       "    .dataframe tbody tr th:only-of-type {\n",
       "        vertical-align: middle;\n",
       "    }\n",
       "\n",
       "    .dataframe tbody tr th {\n",
       "        vertical-align: top;\n",
       "    }\n",
       "\n",
       "    .dataframe thead th {\n",
       "        text-align: right;\n",
       "    }\n",
       "</style>\n",
       "<table border=\"1\" class=\"dataframe\">\n",
       "  <thead>\n",
       "    <tr style=\"text-align: right;\">\n",
       "      <th></th>\n",
       "      <th>Unnamed: 0</th>\n",
       "      <th>city</th>\n",
       "      <th>company</th>\n",
       "      <th>desc</th>\n",
       "      <th>job_title</th>\n",
       "      <th>skills</th>\n",
       "      <th>state</th>\n",
       "      <th>url</th>\n",
       "      <th>job</th>\n",
       "    </tr>\n",
       "  </thead>\n",
       "  <tbody>\n",
       "    <tr>\n",
       "      <th>0</th>\n",
       "      <td>0</td>\n",
       "      <td>Unite</td>\n",
       "      <td>IBM</td>\n",
       "      <td>['job', 'descript', 'ibm', 'amaz', 'opportun',...</td>\n",
       "      <td>Entry-Level Data Scientist</td>\n",
       "      <td>['r', 'java', 'sas', 'python']</td>\n",
       "      <td>States</td>\n",
       "      <td>https://www.indeed.com/rc/clk?jk=68907b23cb078...</td>\n",
       "      <td>Data Scientist</td>\n",
       "    </tr>\n",
       "    <tr>\n",
       "      <th>1</th>\n",
       "      <td>1</td>\n",
       "      <td>New York</td>\n",
       "      <td>Rent the Runway</td>\n",
       "      <td>['rent', 'runway', 'recent', 'name', '9', 'cnb...</td>\n",
       "      <td>Data Scientist</td>\n",
       "      <td>['java', 'r', 'python']</td>\n",
       "      <td>NY</td>\n",
       "      <td>https://www.indeed.com/rc/clk?jk=b59410cae51ba...</td>\n",
       "      <td>Data Scientist</td>\n",
       "    </tr>\n",
       "    <tr>\n",
       "      <th>2</th>\n",
       "      <td>2</td>\n",
       "      <td>New York</td>\n",
       "      <td>JobRobin</td>\n",
       "      <td>['100000', '170000', 'year', 'job', 'descript'...</td>\n",
       "      <td>Sports Data Scientist</td>\n",
       "      <td>['r', 'sql', 'python']</td>\n",
       "      <td>NY</td>\n",
       "      <td>https://www.indeed.com/company/JobRobin/jobs/S...</td>\n",
       "      <td>Data Scientist</td>\n",
       "    </tr>\n",
       "    <tr>\n",
       "      <th>3</th>\n",
       "      <td>3</td>\n",
       "      <td>New York</td>\n",
       "      <td>Guidepoint Global</td>\n",
       "      <td>['overview', 'guidepoint', 'data', 'insight', ...</td>\n",
       "      <td>Associate Data Scientist</td>\n",
       "      <td>['r', 'sql', 'python']</td>\n",
       "      <td>NY</td>\n",
       "      <td>https://www.indeed.com/rc/clk?jk=7f048a8152caa...</td>\n",
       "      <td>Data Scientist</td>\n",
       "    </tr>\n",
       "    <tr>\n",
       "      <th>4</th>\n",
       "      <td>4</td>\n",
       "      <td>Unite</td>\n",
       "      <td>IBM</td>\n",
       "      <td>['internship', 'job', 'descript', 'posit', 'us...</td>\n",
       "      <td>Data Scientist - Intern Conversion</td>\n",
       "      <td>['r', 'java', 'sas', 'python']</td>\n",
       "      <td>States</td>\n",
       "      <td>https://www.indeed.com/rc/clk?jk=a4139a3bfaa51...</td>\n",
       "      <td>Data Scientist</td>\n",
       "    </tr>\n",
       "  </tbody>\n",
       "</table>\n",
       "</div>"
      ],
      "text/plain": [
       "   Unnamed: 0      city            company  \\\n",
       "0           0     Unite                IBM   \n",
       "1           1  New York    Rent the Runway   \n",
       "2           2  New York           JobRobin   \n",
       "3           3  New York  Guidepoint Global   \n",
       "4           4     Unite                IBM   \n",
       "\n",
       "                                                desc  \\\n",
       "0  ['job', 'descript', 'ibm', 'amaz', 'opportun',...   \n",
       "1  ['rent', 'runway', 'recent', 'name', '9', 'cnb...   \n",
       "2  ['100000', '170000', 'year', 'job', 'descript'...   \n",
       "3  ['overview', 'guidepoint', 'data', 'insight', ...   \n",
       "4  ['internship', 'job', 'descript', 'posit', 'us...   \n",
       "\n",
       "                            job_title                          skills   state  \\\n",
       "0          Entry-Level Data Scientist  ['r', 'java', 'sas', 'python']  States   \n",
       "1                      Data Scientist         ['java', 'r', 'python']      NY   \n",
       "2               Sports Data Scientist          ['r', 'sql', 'python']      NY   \n",
       "3            Associate Data Scientist          ['r', 'sql', 'python']      NY   \n",
       "4  Data Scientist - Intern Conversion  ['r', 'java', 'sas', 'python']  States   \n",
       "\n",
       "                                                 url             job  \n",
       "0  https://www.indeed.com/rc/clk?jk=68907b23cb078...  Data Scientist  \n",
       "1  https://www.indeed.com/rc/clk?jk=b59410cae51ba...  Data Scientist  \n",
       "2  https://www.indeed.com/company/JobRobin/jobs/S...  Data Scientist  \n",
       "3  https://www.indeed.com/rc/clk?jk=7f048a8152caa...  Data Scientist  \n",
       "4  https://www.indeed.com/rc/clk?jk=a4139a3bfaa51...  Data Scientist  "
      ]
     },
     "execution_count": 6,
     "metadata": {},
     "output_type": "execute_result"
    }
   ],
   "source": [
    "df.head()"
   ]
  },
  {
   "cell_type": "code",
   "execution_count": 16,
   "metadata": {},
   "outputs": [
    {
     "data": {
      "text/plain": [
       "'https://www.indeed.com/rc/clk?jk=20eb2d365e91217f&fccid=734cb5a01ee60f80&vjs=3'"
      ]
     },
     "execution_count": 16,
     "metadata": {},
     "output_type": "execute_result"
    }
   ],
   "source": [
    "df[df['city']== \"Unite\"] #zero is one of them\n",
    "df.iloc[40,:].url #the ones that say united states are because they are avaiable in multiple locations "
   ]
  },
  {
   "cell_type": "code",
   "execution_count": 37,
   "metadata": {},
   "outputs": [],
   "source": [
    "df['city'] = df.city.apply(lambda x: 'Multiple' if x == \"Unite\" else x)\n",
    "df['state'] = df.state.apply(lambda x: 'Multiple' if x == \"States\" else x)"
   ]
  },
  {
   "cell_type": "code",
   "execution_count": 39,
   "metadata": {},
   "outputs": [],
   "source": [
    "#df.head()"
   ]
  },
  {
   "cell_type": "code",
   "execution_count": 50,
   "metadata": {},
   "outputs": [],
   "source": [
    "def get_query_info(skill_set,query_url):\n",
    "    \n",
    "    job_title, company_name, city, state, job_description = get_job_info(query_url)\n",
    "    text_no_skills, skills = clean_job_description(job_description,skill_set)\n",
    "    \n",
    "    return job_title, company_name, city, state, text_no_skills, skills"
   ]
  },
  {
   "cell_type": "code",
   "execution_count": 51,
   "metadata": {},
   "outputs": [
    {
     "ename": "NameError",
     "evalue": "name 'indeed' is not defined",
     "output_type": "error",
     "traceback": [
      "\u001b[0;31m---------------------------------------------------------------------------\u001b[0m",
      "\u001b[0;31mNameError\u001b[0m                                 Traceback (most recent call last)",
      "\u001b[0;32m<ipython-input-51-8793e14a32ee>\u001b[0m in \u001b[0;36m<module>\u001b[0;34m\u001b[0m\n\u001b[0;32m----> 1\u001b[0;31m \u001b[0mget_query_info\u001b[0m\u001b[0;34m(\u001b[0m\u001b[0mskill_set\u001b[0m\u001b[0;34m,\u001b[0m\u001b[0;34m'https://www.indeed.com/viewjob?jk=77f94ac2f9a13d32&tk=1d0af38sl0k62002&from=serp&vjs=3'\u001b[0m\u001b[0;34m)\u001b[0m\u001b[0;34m\u001b[0m\u001b[0m\n\u001b[0m",
      "\u001b[0;32m<ipython-input-50-f5cafb252bc5>\u001b[0m in \u001b[0;36mget_query_info\u001b[0;34m(skill_set, query_url)\u001b[0m\n\u001b[1;32m      1\u001b[0m \u001b[0;32mdef\u001b[0m \u001b[0mget_query_info\u001b[0m\u001b[0;34m(\u001b[0m\u001b[0mskill_set\u001b[0m\u001b[0;34m,\u001b[0m\u001b[0mquery_url\u001b[0m\u001b[0;34m)\u001b[0m\u001b[0;34m:\u001b[0m\u001b[0;34m\u001b[0m\u001b[0m\n\u001b[1;32m      2\u001b[0m \u001b[0;34m\u001b[0m\u001b[0m\n\u001b[0;32m----> 3\u001b[0;31m     \u001b[0mjob_title\u001b[0m\u001b[0;34m,\u001b[0m \u001b[0mcompany_name\u001b[0m\u001b[0;34m,\u001b[0m \u001b[0mcity\u001b[0m\u001b[0;34m,\u001b[0m \u001b[0mstate\u001b[0m\u001b[0;34m,\u001b[0m \u001b[0mjob_description\u001b[0m \u001b[0;34m=\u001b[0m \u001b[0mindeed\u001b[0m\u001b[0;34m.\u001b[0m\u001b[0mget_job_info\u001b[0m\u001b[0;34m(\u001b[0m\u001b[0mquery_url\u001b[0m\u001b[0;34m)\u001b[0m\u001b[0;34m\u001b[0m\u001b[0m\n\u001b[0m\u001b[1;32m      4\u001b[0m     \u001b[0mtext_no_skills\u001b[0m\u001b[0;34m,\u001b[0m \u001b[0mskills\u001b[0m \u001b[0;34m=\u001b[0m \u001b[0mindeed\u001b[0m\u001b[0;34m.\u001b[0m\u001b[0mclean_job_description\u001b[0m\u001b[0;34m(\u001b[0m\u001b[0mjob_description\u001b[0m\u001b[0;34m,\u001b[0m\u001b[0mskill_set\u001b[0m\u001b[0;34m)\u001b[0m\u001b[0;34m\u001b[0m\u001b[0m\n\u001b[1;32m      5\u001b[0m \u001b[0;34m\u001b[0m\u001b[0m\n",
      "\u001b[0;31mNameError\u001b[0m: name 'indeed' is not defined"
     ]
    }
   ],
   "source": [
    "get_query_info(skill_set,'https://www.indeed.com/viewjob?jk=77f94ac2f9a13d32&tk=1d0af38sl0k62002&from=serp&vjs=3')"
   ]
  },
  {
   "cell_type": "code",
   "execution_count": 42,
   "metadata": {},
   "outputs": [],
   "source": [
    "def get_top_sim(query_words, df):\n",
    "    #TO DO 1) here is where I need to incorporate semantic similiarty \n",
    "    #      2) can't stem prior to doing similiarty so need to unstem and then resteam\n",
    "    \n",
    "\n",
    "    \n",
    "    query_words = [\" \".join(query)]\n",
    "    job_words = df.desc.apply(lambda x: \" \".join(x)).values.tolist() #this gives you a list of list of the jobs \n",
    "     \n",
    "    vectorizer = TfidfVectorizer() #make sure these defaults are correct\n",
    "    model = vectorizer.fit(job_words)\n",
    "    \n",
    "    query_tfidf = model.transform(query_words)\n",
    "    job_tfidf = model.transform(job_words)\n",
    "    \n",
    "    cosine_sim = cosine_similarity(query_tfidf,job_tfidf)\n",
    "    top_10_sim = cosine_sim.argsort()[0][::-1][0:10]\n",
    "    \n",
    "    return cosine_sim, top_10_sim"
   ]
  },
  {
   "cell_type": "code",
   "execution_count": 43,
   "metadata": {},
   "outputs": [],
   "source": [
    "def get_top_jobs(df,indices):\n",
    "    return df.iloc[indices,:]"
   ]
  },
  {
   "cell_type": "code",
   "execution_count": null,
   "metadata": {},
   "outputs": [],
   "source": []
  }
 ],
 "metadata": {
  "kernelspec": {
   "display_name": "Python 3",
   "language": "python",
   "name": "python3"
  },
  "language_info": {
   "codemirror_mode": {
    "name": "ipython",
    "version": 3
   },
   "file_extension": ".py",
   "mimetype": "text/x-python",
   "name": "python",
   "nbconvert_exporter": "python",
   "pygments_lexer": "ipython3",
   "version": "3.6.4"
  }
 },
 "nbformat": 4,
 "nbformat_minor": 2
}
