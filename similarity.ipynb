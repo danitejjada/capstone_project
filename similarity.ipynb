{
 "cells": [
  {
   "cell_type": "code",
   "execution_count": 147,
   "metadata": {},
   "outputs": [],
   "source": [
    "import pandas as pd\n",
    "from functools import reduce"
   ]
  },
  {
   "cell_type": "code",
   "execution_count": null,
   "metadata": {},
   "outputs": [],
   "source": [
    "# PUT THE SNOWBALL STEMMER HERE"
   ]
  },
  {
   "cell_type": "code",
   "execution_count": 47,
   "metadata": {},
   "outputs": [],
   "source": [
    "skill_set = ['r','python','java','c++','ruby','perl','matlab','javascript','scala','excel','tableau',\n",
    "             'd3js','sas','spss','d3','hadoop','mapreduce','spark',\n",
    "             'pig','hive','shark','zookeeper','flume','mahout',\n",
    "             'sql','nosql','hase','cassandra','mongodb','docker','aws']"
   ]
  },
  {
   "cell_type": "code",
   "execution_count": 32,
   "metadata": {},
   "outputs": [],
   "source": [
    "df = pd.read_csv('data_scientist.csv')"
   ]
  },
  {
   "cell_type": "code",
   "execution_count": 6,
   "metadata": {},
   "outputs": [
    {
     "data": {
      "text/html": [
       "<div>\n",
       "<style scoped>\n",
       "    .dataframe tbody tr th:only-of-type {\n",
       "        vertical-align: middle;\n",
       "    }\n",
       "\n",
       "    .dataframe tbody tr th {\n",
       "        vertical-align: top;\n",
       "    }\n",
       "\n",
       "    .dataframe thead th {\n",
       "        text-align: right;\n",
       "    }\n",
       "</style>\n",
       "<table border=\"1\" class=\"dataframe\">\n",
       "  <thead>\n",
       "    <tr style=\"text-align: right;\">\n",
       "      <th></th>\n",
       "      <th>Unnamed: 0</th>\n",
       "      <th>city</th>\n",
       "      <th>company</th>\n",
       "      <th>desc</th>\n",
       "      <th>job_title</th>\n",
       "      <th>skills</th>\n",
       "      <th>state</th>\n",
       "      <th>url</th>\n",
       "      <th>job</th>\n",
       "    </tr>\n",
       "  </thead>\n",
       "  <tbody>\n",
       "    <tr>\n",
       "      <th>0</th>\n",
       "      <td>0</td>\n",
       "      <td>Unite</td>\n",
       "      <td>IBM</td>\n",
       "      <td>['job', 'descript', 'ibm', 'amaz', 'opportun',...</td>\n",
       "      <td>Entry-Level Data Scientist</td>\n",
       "      <td>['r', 'java', 'sas', 'python']</td>\n",
       "      <td>States</td>\n",
       "      <td>https://www.indeed.com/rc/clk?jk=68907b23cb078...</td>\n",
       "      <td>Data Scientist</td>\n",
       "    </tr>\n",
       "    <tr>\n",
       "      <th>1</th>\n",
       "      <td>1</td>\n",
       "      <td>New York</td>\n",
       "      <td>Rent the Runway</td>\n",
       "      <td>['rent', 'runway', 'recent', 'name', '9', 'cnb...</td>\n",
       "      <td>Data Scientist</td>\n",
       "      <td>['java', 'r', 'python']</td>\n",
       "      <td>NY</td>\n",
       "      <td>https://www.indeed.com/rc/clk?jk=b59410cae51ba...</td>\n",
       "      <td>Data Scientist</td>\n",
       "    </tr>\n",
       "    <tr>\n",
       "      <th>2</th>\n",
       "      <td>2</td>\n",
       "      <td>New York</td>\n",
       "      <td>JobRobin</td>\n",
       "      <td>['100000', '170000', 'year', 'job', 'descript'...</td>\n",
       "      <td>Sports Data Scientist</td>\n",
       "      <td>['r', 'sql', 'python']</td>\n",
       "      <td>NY</td>\n",
       "      <td>https://www.indeed.com/company/JobRobin/jobs/S...</td>\n",
       "      <td>Data Scientist</td>\n",
       "    </tr>\n",
       "    <tr>\n",
       "      <th>3</th>\n",
       "      <td>3</td>\n",
       "      <td>New York</td>\n",
       "      <td>Guidepoint Global</td>\n",
       "      <td>['overview', 'guidepoint', 'data', 'insight', ...</td>\n",
       "      <td>Associate Data Scientist</td>\n",
       "      <td>['r', 'sql', 'python']</td>\n",
       "      <td>NY</td>\n",
       "      <td>https://www.indeed.com/rc/clk?jk=7f048a8152caa...</td>\n",
       "      <td>Data Scientist</td>\n",
       "    </tr>\n",
       "    <tr>\n",
       "      <th>4</th>\n",
       "      <td>4</td>\n",
       "      <td>Unite</td>\n",
       "      <td>IBM</td>\n",
       "      <td>['internship', 'job', 'descript', 'posit', 'us...</td>\n",
       "      <td>Data Scientist - Intern Conversion</td>\n",
       "      <td>['r', 'java', 'sas', 'python']</td>\n",
       "      <td>States</td>\n",
       "      <td>https://www.indeed.com/rc/clk?jk=a4139a3bfaa51...</td>\n",
       "      <td>Data Scientist</td>\n",
       "    </tr>\n",
       "  </tbody>\n",
       "</table>\n",
       "</div>"
      ],
      "text/plain": [
       "   Unnamed: 0      city            company  \\\n",
       "0           0     Unite                IBM   \n",
       "1           1  New York    Rent the Runway   \n",
       "2           2  New York           JobRobin   \n",
       "3           3  New York  Guidepoint Global   \n",
       "4           4     Unite                IBM   \n",
       "\n",
       "                                                desc  \\\n",
       "0  ['job', 'descript', 'ibm', 'amaz', 'opportun',...   \n",
       "1  ['rent', 'runway', 'recent', 'name', '9', 'cnb...   \n",
       "2  ['100000', '170000', 'year', 'job', 'descript'...   \n",
       "3  ['overview', 'guidepoint', 'data', 'insight', ...   \n",
       "4  ['internship', 'job', 'descript', 'posit', 'us...   \n",
       "\n",
       "                            job_title                          skills   state  \\\n",
       "0          Entry-Level Data Scientist  ['r', 'java', 'sas', 'python']  States   \n",
       "1                      Data Scientist         ['java', 'r', 'python']      NY   \n",
       "2               Sports Data Scientist          ['r', 'sql', 'python']      NY   \n",
       "3            Associate Data Scientist          ['r', 'sql', 'python']      NY   \n",
       "4  Data Scientist - Intern Conversion  ['r', 'java', 'sas', 'python']  States   \n",
       "\n",
       "                                                 url             job  \n",
       "0  https://www.indeed.com/rc/clk?jk=68907b23cb078...  Data Scientist  \n",
       "1  https://www.indeed.com/rc/clk?jk=b59410cae51ba...  Data Scientist  \n",
       "2  https://www.indeed.com/company/JobRobin/jobs/S...  Data Scientist  \n",
       "3  https://www.indeed.com/rc/clk?jk=7f048a8152caa...  Data Scientist  \n",
       "4  https://www.indeed.com/rc/clk?jk=a4139a3bfaa51...  Data Scientist  "
      ]
     },
     "execution_count": 6,
     "metadata": {},
     "output_type": "execute_result"
    }
   ],
   "source": [
    "df.head()"
   ]
  },
  {
   "cell_type": "code",
   "execution_count": 16,
   "metadata": {},
   "outputs": [
    {
     "data": {
      "text/plain": [
       "'https://www.indeed.com/rc/clk?jk=20eb2d365e91217f&fccid=734cb5a01ee60f80&vjs=3'"
      ]
     },
     "execution_count": 16,
     "metadata": {},
     "output_type": "execute_result"
    }
   ],
   "source": [
    "df[df['city']== \"Unite\"] #zero is one of them\n",
    "df.iloc[40,:].url #the ones that say united states are because they are avaiable in multiple locations "
   ]
  },
  {
   "cell_type": "code",
   "execution_count": 151,
   "metadata": {},
   "outputs": [],
   "source": [
    "def join_dfs(dfList):\n",
    "    return reduce(lambda x, y: x.append(y), dfList)"
   ]
  },
  {
   "cell_type": "code",
   "execution_count": 87,
   "metadata": {},
   "outputs": [],
   "source": [
    "def format_df(df):\n",
    "    #make one big data frame and then get values for everything \n",
    "    \n",
    "    #getting rid of first column check if you can just do index remove\n",
    "    df = df.iloc[:,1:]\n",
    "    \n",
    "    #formatting for alternate locations \n",
    "    df['city'] = df.city.apply(lambda x: 'Multiple' if x == \"Unite\" else x)\n",
    "    df['state'] = df.state.apply(lambda x: 'Multiple' if x == \"States\" else x)\n",
    "    \n",
    "    #if location if unavaiable take into account when doing search \n",
    "  \n",
    "    \n",
    "    #getting rid of jobs that have no descriptions \n",
    "    index = df[df['desc'] == \"['U', 'n', 'a', 'v', 'a', 'i', 'l', 'a', 'b', 'l', 'e']\"].index\n",
    "    df = mle_df.drop(index,axis = 0)\n",
    "    \n",
    "    return df "
   ]
  },
  {
   "cell_type": "code",
   "execution_count": 39,
   "metadata": {},
   "outputs": [],
   "source": [
    "#df.head()"
   ]
  },
  {
   "cell_type": "code",
   "execution_count": 50,
   "metadata": {},
   "outputs": [],
   "source": [
    "def get_query_text(skill_set,query_url):\n",
    "    \n",
    "    _, _, _, job_description = get_job_info(query_url)\n",
    "    text_no_skills, _ = clean_job_description(job_description,skill_set)\n",
    "    \n",
    "    return text_no_skills"
   ]
  },
  {
   "cell_type": "code",
   "execution_count": 192,
   "metadata": {},
   "outputs": [
    {
     "ename": "TypeError",
     "evalue": "sequence item 0: expected str instance, list found",
     "output_type": "error",
     "traceback": [
      "\u001b[0;31m---------------------------------------------------------------------------\u001b[0m",
      "\u001b[0;31mTypeError\u001b[0m                                 Traceback (most recent call last)",
      "\u001b[0;32m<ipython-input-192-f9bbb87854ae>\u001b[0m in \u001b[0;36m<module>\u001b[0;34m\u001b[0m\n\u001b[0;32m----> 1\u001b[0;31m \u001b[0mdf\u001b[0m\u001b[0;34m.\u001b[0m\u001b[0mdesc\u001b[0m\u001b[0;34m.\u001b[0m\u001b[0mapply\u001b[0m\u001b[0;34m(\u001b[0m\u001b[0;32mlambda\u001b[0m \u001b[0mx\u001b[0m\u001b[0;34m:\u001b[0m \u001b[0mx\u001b[0m\u001b[0;34m[\u001b[0m\u001b[0;36m1\u001b[0m\u001b[0;34m:\u001b[0m\u001b[0;34m-\u001b[0m\u001b[0;36m1\u001b[0m\u001b[0;34m]\u001b[0m\u001b[0;34m.\u001b[0m\u001b[0msplit\u001b[0m\u001b[0;34m(\u001b[0m\u001b[0;34m','\u001b[0m\u001b[0;34m)\u001b[0m\u001b[0;34m)\u001b[0m\u001b[0;34m.\u001b[0m\u001b[0mstr\u001b[0m\u001b[0;34m.\u001b[0m\u001b[0mcat\u001b[0m\u001b[0;34m(\u001b[0m\u001b[0msep\u001b[0m\u001b[0;34m=\u001b[0m\u001b[0;34m','\u001b[0m\u001b[0;34m)\u001b[0m\u001b[0;34m\u001b[0m\u001b[0m\n\u001b[0m",
      "\u001b[0;32m/anaconda3/lib/python3.6/site-packages/pandas/core/strings.py\u001b[0m in \u001b[0;36mcat\u001b[0;34m(self, others, sep, na_rep)\u001b[0m\n\u001b[1;32m   1473\u001b[0m     \u001b[0;32mdef\u001b[0m \u001b[0mcat\u001b[0m\u001b[0;34m(\u001b[0m\u001b[0mself\u001b[0m\u001b[0;34m,\u001b[0m \u001b[0mothers\u001b[0m\u001b[0;34m=\u001b[0m\u001b[0;32mNone\u001b[0m\u001b[0;34m,\u001b[0m \u001b[0msep\u001b[0m\u001b[0;34m=\u001b[0m\u001b[0;32mNone\u001b[0m\u001b[0;34m,\u001b[0m \u001b[0mna_rep\u001b[0m\u001b[0;34m=\u001b[0m\u001b[0;32mNone\u001b[0m\u001b[0;34m)\u001b[0m\u001b[0;34m:\u001b[0m\u001b[0;34m\u001b[0m\u001b[0m\n\u001b[1;32m   1474\u001b[0m         \u001b[0mdata\u001b[0m \u001b[0;34m=\u001b[0m \u001b[0mself\u001b[0m\u001b[0;34m.\u001b[0m\u001b[0m_orig\u001b[0m \u001b[0;32mif\u001b[0m \u001b[0mself\u001b[0m\u001b[0;34m.\u001b[0m\u001b[0m_is_categorical\u001b[0m \u001b[0;32melse\u001b[0m \u001b[0mself\u001b[0m\u001b[0;34m.\u001b[0m\u001b[0m_data\u001b[0m\u001b[0;34m\u001b[0m\u001b[0m\n\u001b[0;32m-> 1475\u001b[0;31m         \u001b[0mresult\u001b[0m \u001b[0;34m=\u001b[0m \u001b[0mstr_cat\u001b[0m\u001b[0;34m(\u001b[0m\u001b[0mdata\u001b[0m\u001b[0;34m,\u001b[0m \u001b[0mothers\u001b[0m\u001b[0;34m=\u001b[0m\u001b[0mothers\u001b[0m\u001b[0;34m,\u001b[0m \u001b[0msep\u001b[0m\u001b[0;34m=\u001b[0m\u001b[0msep\u001b[0m\u001b[0;34m,\u001b[0m \u001b[0mna_rep\u001b[0m\u001b[0;34m=\u001b[0m\u001b[0mna_rep\u001b[0m\u001b[0;34m)\u001b[0m\u001b[0;34m\u001b[0m\u001b[0m\n\u001b[0m\u001b[1;32m   1476\u001b[0m         \u001b[0;32mreturn\u001b[0m \u001b[0mself\u001b[0m\u001b[0;34m.\u001b[0m\u001b[0m_wrap_result\u001b[0m\u001b[0;34m(\u001b[0m\u001b[0mresult\u001b[0m\u001b[0;34m,\u001b[0m \u001b[0muse_codes\u001b[0m\u001b[0;34m=\u001b[0m\u001b[0;34m(\u001b[0m\u001b[0;32mnot\u001b[0m \u001b[0mself\u001b[0m\u001b[0;34m.\u001b[0m\u001b[0m_is_categorical\u001b[0m\u001b[0;34m)\u001b[0m\u001b[0;34m)\u001b[0m\u001b[0;34m\u001b[0m\u001b[0m\n\u001b[1;32m   1477\u001b[0m \u001b[0;34m\u001b[0m\u001b[0m\n",
      "\u001b[0;32m/anaconda3/lib/python3.6/site-packages/pandas/core/strings.py\u001b[0m in \u001b[0;36mstr_cat\u001b[0;34m(arr, others, sep, na_rep)\u001b[0m\n\u001b[1;32m    136\u001b[0m             \u001b[0;32melse\u001b[0m\u001b[0;34m:\u001b[0m\u001b[0;34m\u001b[0m\u001b[0m\n\u001b[1;32m    137\u001b[0m                 \u001b[0;32mreturn\u001b[0m \u001b[0msep\u001b[0m\u001b[0;34m.\u001b[0m\u001b[0mjoin\u001b[0m\u001b[0;34m(\u001b[0m\u001b[0marr\u001b[0m\u001b[0;34m[\u001b[0m\u001b[0mnotna\u001b[0m\u001b[0;34m(\u001b[0m\u001b[0marr\u001b[0m\u001b[0;34m)\u001b[0m\u001b[0;34m]\u001b[0m\u001b[0;34m)\u001b[0m\u001b[0;34m\u001b[0m\u001b[0m\n\u001b[0;32m--> 138\u001b[0;31m         \u001b[0;32mreturn\u001b[0m \u001b[0msep\u001b[0m\u001b[0;34m.\u001b[0m\u001b[0mjoin\u001b[0m\u001b[0;34m(\u001b[0m\u001b[0mnp\u001b[0m\u001b[0;34m.\u001b[0m\u001b[0mwhere\u001b[0m\u001b[0;34m(\u001b[0m\u001b[0mmask\u001b[0m\u001b[0;34m,\u001b[0m \u001b[0mna_rep\u001b[0m\u001b[0;34m,\u001b[0m \u001b[0marr\u001b[0m\u001b[0;34m)\u001b[0m\u001b[0;34m)\u001b[0m\u001b[0;34m\u001b[0m\u001b[0m\n\u001b[0m\u001b[1;32m    139\u001b[0m \u001b[0;34m\u001b[0m\u001b[0m\n\u001b[1;32m    140\u001b[0m \u001b[0;34m\u001b[0m\u001b[0m\n",
      "\u001b[0;31mTypeError\u001b[0m: sequence item 0: expected str instance, list found"
     ]
    }
   ],
   "source": [
    "df.desc.apply(lambda x: x[1:-1].split(',')).str.cat(sep=',')"
   ]
  },
  {
   "cell_type": "code",
   "execution_count": 155,
   "metadata": {},
   "outputs": [],
   "source": [
    "def get_top_sim(df):\n",
    "    \n",
    "    job_words = df.desc.apply(lambda x: \" \".join(x)).values\n",
    "    \n",
    "    return job_words"
   ]
  },
  {
   "cell_type": "code",
   "execution_count": 156,
   "metadata": {},
   "outputs": [
    {
     "data": {
      "text/plain": [
       "array(['[ \\' j o b \\' ,   \\' d e s c r i p t \\' ,   \\' i b m \\' ,   \\' a m a z \\' ,   \\' o p p o r t u n \\' ,   \\' t r a n s f o r m \\' ,   \\' w o r l d \\' ,   \\' c o g n i t \\' ,   \\' t e c h n o l o g \\' ,   \\' u s e \\' ,   \\' v a s t \\' ,   \\' a m o u n t \\' ,   \\' i n f o r m \\' ,   \\' a v a i l \\' ,   \\' t o d a y \\' ,   \\' i d e n t i f i \\' ,   \\' n e w \\' ,   \\' p a t t e r n \\' ,   \\' m a k e \\' ,   \\' n e w \\' ,   \\' d i s c o v e r i \\' ,   \\' h e l p \\' ,   \\' c i t i \\' ,   \\' b e c o m \\' ,   \\' s m a r t e r \\' ,   \\' h o s p i t \\' ,   \\' t r a n s f o r m \\' ,   \\' p a t i e n t \\' ,   \\' c a r e \\' ,   \\' f i n a n c i \\' ,   \\' i n s t i t u t \\' ,   \\' m i n i m \\' ,   \\' r i s k \\' ,   \\' p h a r m a c e u t \\' ,   \\' f i n d \\' ,   \\' c u r e \\' ,   \\' r a r e \\' ,   \\' d i s e a s \\' ,   \\' j o i n \\' ,   \\' f o r w a r d t h i n k \\' ,   \\' t e a m \\' ,   \\' i b m \\' ,   \\' s o l v \\' ,   \\' w o r l d \\' ,   \\' c o m p l e x \\' ,   \\' p r o b l e m \\' ,   \\' – \\' ,   \\' b e t t e r \\' ,   \\' p l a c e \\' ,   \\' g r o w \\' ,   \\' c a r e e r \\' ,   \\' e n t r i \\' ,   \\' l e v e l \\' ,   \\' d a t a \\' ,   \\' s c i e n t i s t \\' ,   \\' e x t r a c t \\' ,   \\' k n o w l e d g \\' ,   \\' i n s i g h t \\' ,   \\' s t r u c t u r \\' ,   \\' u n s t r u c t u r \\' ,   \\' d a t a \\' ,   \\' d r a w \\' ,   \\' u p o n \\' ,   \\' p r a c t i c \\' ,   \\' d a t a \\' ,   \\' a n a l y s i \\' ,   \\' u s e \\' ,   \\' p r e d i c t \\' ,   \\' a n a l y t \\' ,   \\' d a t a \\' ,   \\' m i n e \\' ,   \\' p a t t e r n \\' ,   \\' r e c o g n i t \\' ,   \\' d a t a \\' ,   \\' m o d e l \\' ,   \\' m a c h i n \\' ,   \\' l e a r n \\' ,   \\' v a r i o u s \\' ,   \\' s t a t i s t \\' ,   \\' m e t h o d \\' ,   \\' o r d e r \\' ,   \\' s o l v \\' ,   \\' l a r g \\' ,   \\' s c a l e \\' ,   \\' o p t i m \\' ,   \\' p r o b l e m \\' ,   \\' u n d e r s t a n d \\' ,   \\' m e a n \\' ,   \\' b e h i n d \\' ,   \\' v a s t \\' ,   \\' d a t a \\' ,   \\' s e t \\' ,   \\' e n t r i \\' ,   \\' l e v e l \\' ,   \\' d a t a \\' ,   \\' s c i e n t i s t \\' ,   \\' d e m a n d \\' ,   \\' a c r o s s \\' ,   \\' i b m \\' ,   \\' g r o w t h \\' ,   \\' a r e a \\' ,   \\' y o u l l \\' ,   \\' m a t c h \\' ,   \\' d e p l o y \\' ,   \\' t e a m \\' ,   \\' s t r a t e g \\' ,   \\' b u s i \\' ,   \\' b a s e \\' ,   \\' o f f e r \\' ,   \\' l o c a t \\' ,   \\' f i t \\' ,   \" y o u \\' l l \" ,   \\' i m p l e m e n t \\' ,   \\' v a l i d \\' ,   \\' p r e d i c t \\' ,   \\' m o d e l \\' ,   \\' c r e a t \\' ,   \\' m a i n t a i n \\' ,   \\' s t a t i s t \\' ,   \\' m o d e l \\' ,   \\' f o c u s \\' ,   \\' b i g \\' ,   \\' d a t a \\' ,   \" y o u \\' l l \" ,   \\' c o m m u n i c \\' ,   \\' i n t e r n \\' ,   \\' e x t e r n \\' ,   \\' c l i e n t \\' ,   \\' u n d e r s t a n d \\' ,   \\' b u s i \\' ,   \\' n e e d \\' ,   \\' p r o v i d \\' ,   \\' a n a l y t \\' ,   \\' s o l u t \\' ,   \\' u s e \\' ,   \\' s t a t i s t \\' ,   \\' c o n c e p t \\' ,   \\' r e g r e s s \\' ,   \\' t i m e \\' ,   \\' s e r i \\' ,   \\' m i x \\' ,   \\' m o d e l \\' ,   \\' b a y e s i a n \\' ,   \\' m e t h o d \\' ,   \\' c l u s t e r \\' ,   \\' e t c \\' ,   \\' a n a l y z \\' ,   \\' d a t a \\' ,   \\' p r o v i d \\' ,   \\' i n s i g h t \\' ,   \" y o u \\' l l \" ,   \\' w o r k \\' ,   \\' a g i l \\' ,   \\' c o l l a b o r \\' ,   \\' e n v i r o n \\' ,   \\' p a r t n e r \\' ,   \\' s c i e n t i s t \\' ,   \\' e n g i n \\' ,   \\' d a t a b a s \\' ,   \\' a d m i n i s t r \\' ,   \\' b a c k g r o u n d \\' ,   \\' d i s c i p l i n \\' ,   \\' b r i n g \\' ,   \\' a n a l y t \\' ,   \\' r i g o r \\' ,   \\' s t a t i s t \\' ,   \\' m e t h o d \\' ,   \\' c h a l l e n g \\' ,   \\' p r e d i c t \\' ,   \\' b e h a v i o r \\' ,   \\' g r e a t \\' ,   \\' s o l v \\' ,   \\' p r o b l e m \\' ,   \\' d e b u g \\' ,   \\' t r o u b l e s h o o t \\' ,   \\' d e s i g n \\' ,   \\' i m p l e m e n t \\' ,   \\' s o l u t \\' ,   \\' c o m p l e x \\' ,   \\' t e c h n i c \\' ,   \\' i s s u \\' ,   \\' t h r i v e \\' ,   \\' t e a m w o r k \\' ,   \\' e x c e l \\' ,   \\' v e r b a l \\' ,   \\' w r i t t e n \\' ,   \\' c o m m u n i c \\' ,   \\' s k i l l \\' ,   \\' s t r o n g \\' ,   \\' t e c h n i c \\' ,   \\' a n a l y t \\' ,   \\' a b i l \\' ,   \\' k n a c k \\' ,   \\' d r i v e \\' ,   \\' i m p a c t \\' ,   \\' g r o w t h \\' ,   \\' e x p e r i \\' ,   \\' p r o g r a m m i n g s c r i p t \\' ,   \\' l a n g u a g \\' ,   \\' b a s i c \\' ,   \\' u n d e r s t a n d \\' ,   \\' s t a t i s t \\' ,   \\' p r o g r a m \\' ,   \\' l a n g u a g \\' ,   \\' i n t e r e s t \\' ,   \\' u n d e r s t a n d \\' ,   \\' e x p e r i \\' ,   \\' d e s i g n \\' ,   \\' t h i n k \\' ,   \\' m e t h o d o l o g \\' ,   \\' i n t e r e s t \\' ,   \\' u n d e r s t a n d \\' ,   \\' e x p e r i \\' ,   \\' a g i l \\' ,   \\' d e v e l o p \\' ,   \\' m e t h o d o l o g \\' ,   \\' r e q u i r \\' ,   \\' t e c h n i c \\' ,   \\' p r o f e s s i o n \\' ,   \\' e x p e r t i s \\' ,   \\' m u s t \\' ,   \\' b a s i c \\' ,   \\' k n o w l e d g \\' ,   \\' s t a t i s t \\' ,   \\' c o n c e p t \\' ,   \\' r e g r e s s \\' ,   \\' t i m e \\' ,   \\' s e r i \\' ,   \\' m i x \\' ,   \\' m o d e l \\' ,   \\' b a y e s i a n \\' ,   \\' m e t h o d \\' ,   \\' c l u s t e r \\' ,   \\' e t c \\' ,   \\' a n a l y z \\' ,   \\' d a t a \\' ,   \\' p r o v i d \\' ,   \\' i n s i g h t \\' ,   \\' p r e f e r \\' ,   \\' t e c h \\' ,   \\' p r o f \\' ,   \\' e x p e r i \\' ,   \\' w o r k \\' ,   \\' e x p e r i \\' ,   \\' u s e \\' ,   \\' s t a t i s t \\' ,   \\' c o n c e p t \\' ,   \\' r e g r e s s \\' ,   \\' t i m e \\' ,   \\' s e r i \\' ,   \\' m i x \\' ,   \\' m o d e l \\' ,   \\' b a y e s i a n \\' ,   \\' m e t h o d \\' ,   \\' c l u s t e r \\' ,   \\' e t c \\' ,   \\' a n a l y z \\' ,   \\' d a t a \\' ,   \\' p r o v i d \\' ,   \\' i n s i g h t \\' ,   \\' e o \\' ,   \\' s t a t e m e n t \\' ,   \\' i b m \\' ,   \\' c o m m i t \\' ,   \\' c r e a t \\' ,   \\' d i v e r s \\' ,   \\' e n v i r o n \\' ,   \\' p r o u d \\' ,   \\' e q u a l \\' ,   \\' o p p o r t u n \\' ,   \\' e m p l o y \\' ,   \\' q u a l i f i \\' ,   \\' a p p l i c \\' ,   \\' r e c e i v \\' ,   \\' c o n s i d e r \\' ,   \\' e m p l o y \\' ,   \\' w i t h o u t \\' ,   \\' r e g a r d \\' ,   \\' r a c e \\' ,   \\' c o l o r \\' ,   \\' r e l i g i o n \\' ,   \\' g e n d e r \\' ,   \\' g e n d e r \\' ,   \\' i d e n t \\' ,   \\' e x p r e s s \\' ,   \\' s e x u a l \\' ,   \\' o r i e n t \\' ,   \\' n a t i o n \\' ,   \\' o r i g i n \\' ,   \\' g e n e t \\' ,   \\' d i s a b l \\' ,   \\' a g e \\' ,   \\' v e t e r a n \\' ,   \\' s t a t u s \\' ,   \\' i b m \\' ,   \\' a l s o \\' ,   \\' c o m m i t \\' ,   \\' c o m p l i a n c \\' ,   \\' f a i r \\' ,   \\' e m p l o y \\' ,   \\' p r a c t i c \\' ,   \\' r e g a r d \\' ,   \\' c i t i z e n s h i p \\' ,   \\' i m m i g r \\' ,   \\' s t a t u s \\' ]',\n",
       "       \"[ ' r e n t ' ,   ' r u n w a y ' ,   ' r e c e n t ' ,   ' n a m e ' ,   ' 9 ' ,   ' c n b c s ' ,   ' d i s r u p t o r ' ,   ' 5 0 ' ,   ' l i s t ' ,   ' 2 0 1 8 ' ,   ' r e n t ' ,   ' r u n w a y ' ,   ' t r a n s f o r m ' ,   ' 2 4 ' ,   ' t r i l l i o n ' ,   ' g l o b a l ' ,   ' f a s h i o n ' ,   ' i n d u s t r i ' ,   ' i n t r o d u c ' ,   ' c l o t h ' ,   ' r e n t a l ' ,   ' u t i l ' ,   ' w o m e n ' ,   ' p i o n e e r ' ,   ' c l o s e t ' ,   ' c l o u d ' ,   ' b e l i e v ' ,   ' e v e r i ' ,   ' p e r s o n ' ,   ' g l o b a l ' ,   ' s o o n ' ,   ' s u b s c r i p t ' ,   ' f a s h i o n ' ,   ' s i n c ' ,   ' l a u n c h ' ,   ' l a t e ' ,   ' 2 0 0 9 ' ,   ' c o m p a n i ' ,   ' r a i s ' ,   ' 2 1 0 ' ,   ' m i l l i o n ' ,   ' t o p t i e r ' ,   ' i n v e s t o r ' ,   ' b u i l t ' ,   ' o n e ' ,   ' b e l o v ' ,   ' b r a n d ' ,   ' e a r t h ' ,   ' p r o u d ' ,   ' p r o f i t ' ,   ' h i g h g r o w t h ' ,   ' b u s i ' ,   ' l o y a l ' ,   ' 9 ' ,   ' m i l l i o n ' ,   ' m e m b e r ' ,   ' b e l i e v ' ,   ' r e n t a l ' ,   ' f u t u r ' ,   ' 1 2 0 0 ' ,   ' e m p l o y e ' ,   ' r e v o l u t i o n a r i ' ,   ' s p i r i t ' ,   ' p e r m e a t ' ,   ' c u l t u r ' ,   ' w e v e ' ,   ' b u i l t ' ,   ' p r o p r i e t a r i ' ,   ' t e c h n o l o g ' ,   ' o n e o f a k i n d ' ,   ' r e v e r s ' ,   ' l o g i s t ' ,   ' o p e r ' ,   ' s t o r e ' ,   ' f u t u r ' ,   ' v i r a l ' ,   ' b r a n d ' ,   ' r e l a t i o n s h i p ' ,   ' h u n d r ' ,   ' f a s h i o n ' ,   ' b r a n d ' ,   ' o b s e s s ' ,   ' c o n t i n u ' ,   ' g a m e ' ,   ' c h a n g ' ,   ' c u s t o m ' ,   ' e x p e r i ' ,   ' a l s o ' ,   ' t r i ' ,   ' r e v o l u t i o n ' ,   ' e n t r e p r e n e u r s h i p ' ,   ' p r o v e ' ,   ' d i v e r s ' ,   ' t e a m ' ,   ' p r o d u c ' ,   ' o u t s i z ' ,   ' i m p a c t ' ,   ' r e n t ' ,   ' r u n w a y ' ,   ' f o u n d a t ' ,   ' t w o ' ,   ' c o f o u n d ' ,   ' l a u n c h ' ,   ' t o g e t h ' ,   ' 2 0 1 5 ' ,   ' h e l p ' ,   ' t h o u s a n d ' ,   ' f e m a l ' ,   ' e n t r e p r e n e u r ' ,   ' b u i l d ' ,   ' s c a l e ' ,   ' b u s i ' ,   ' m i s s i o n ' ,   ' i n c r e a s ' ,   ' n u m b e r ' ,   ' h i g h ' ,   ' g r o w t h ' ,   ' w o m e n l ' ,   ' c o m p a n i ' ,   ' p o s i t ' ,   ' r e n t ' ,   ' r u n w a y ' ,   ' c o m p l e x ' ,   ' d a t a ' ,   ' e c o s y s t e m ' ,   ' s p a n ' ,   ' w e b ' ,   ' i n f r a s t r u c t u r ' ,   ' l o g ' ,   ' t r a n s a c t ' ,   ' r e c u r ' ,   ' s u b s c r i p t ' ,   ' b e h a v i o r ' ,   ' t r a c k ' ,   ' i n v e n t o r i ' ,   ' u n i t ' ,   ' t h r o u g h p u t ' ,   ' h o m e ' ,   ' g r o w n ' ,   ' r e v e r s ' ,   ' l o g i s t ' ,   ' r e n t a l ' ,   ' o p e r ' ,   ' d a t a ' ,   ' s y s t e m ' ,   ' p o w e r ' ,   ' c r i t i c ' ,   ' b u s i ' ,   ' d e c i s ' ,   ' i n v e n t o r i ' ,   ' a s s o r t ' ,   ' o p e r ' ,   ' e f f i c a c i ' ,   ' m a r k e t ' ,   ' a c t i o n ' ,   ' p e r s o n ' ,   ' w e b s i t ' ,   ' f e a t u r ' ,   ' c u s t o m ' ,   ' e x p e r i ' ,   ' e n h a n c ' ,   ' w a n t ' ,   ' s c a l e ' ,   ' d a t a ' ,   ' s c i e n c ' ,   ' f u n c t i o n ' ,   ' a c r o s s ' ,   ' v e c t o r ' ,   ' r o l e ' ,   ' w o u l d ' ,   ' m i n e ' ,   ' d a t a ' ,   ' e c o s y s t e m ' ,   ' f i n d ' ,   ' f r u i t ' ,   ' s i g n a l ' ,   ' d e v e l o p ' ,   ' d e p l o y ' ,   ' p e r f o r m ' ,   ' a l g o r i t h m ' ,   ' p o w e r ' ,   ' a p p l i c ' ,   ' e x a m p l ' ,   ' a p p l i c ' ,   ' i n c l u d ' ,   ' c o n s u m e r f a c ' ,   ' r e c o m m e n d ' ,   ' e n g i n ' ,   ' i n v e n t o r i ' ,   ' a l l o c ' ,   ' s y s t e m ' ,   ' i n t e r n ' ,   ' a p p ' ,   ' i n v e n t o r i ' ,   ' b u y ' ,   ' c u s t o m ' ,   ' e x p e r i ' ,   ' b l e e d i n g e d g ' ,   ' w o r k ' ,   ' i n c l u d ' ,   ' o p t i m ' ,   ' p r o d u c t ' ,   ' f i t ' ,   ' c u s t o m ' ,   ' u n s o l v ' ,   ' y e t ' ,   ' u s e ' ,   ' a i ' ,   ' t e c h n i q u ' ,   ' i n v e n t o r i ' ,   ' b u y ' ,   ' r e a l t i m ' ,   ' s t r e a m i n g m o d e l ' ,   ' c o m p u t ' ,   ' s t r o n g ' ,   ' a c a d e m ' ,   ' b a c k g r o u n d ' ,   ' c o m p u t ' ,   ' s c i e n c ' ,   ' m a t h e m a t ' ,   ' p h y s i c ' ,   ' r e l a t ' ,   ' q u a n t i t a t i v e e n g i n ' ,   ' f i e l d ' ,   ' e x p e r i ' ,   ' d e v e l o p ' ,   ' s o f t w a r ' ,   ' d a t a ' ,   ' p r o d u c t ' ,   ' p a r t i c u l a r ' ,   ' g o t o ' ,   ' l a n g u a g ' ,   ' a l s o ' ,   ' u s e ' ,   ' p a c k a g ' ,   ' l i k e ' ,   ' m o d e l ' ,   ' e f f o r t ' ,   ' m a i n ' ,   ' l a n g u a g ' ,   ' b a c k e n d ' ,   ' s y s t e m ' ,   ' p a s s i o n ' ,   ' d a t a ' ,   ' a b i l ' ,   ' d r i v e ' ,   ' s e r i o u s ' ,   ' b u s i ' ,   ' i m p a c t ' ,   ' a b i l ' ,   ' w o r k ' ,   ' i n d e p e n d ' ,   ' t a k e ' ,   ' r e s p o n s ' ,   ' f u n c t i o n ' ,   ' g r o w ' ,   ' s t r e n g t h ' ,   ' a l s o ' ,   ' c o r e ' ,   ' c o m p a n i ' ,   ' g r o w t h ' ]\",\n",
       "       \"[ ' 1 0 0 0 0 0 ' ,   ' 1 7 0 0 0 0 ' ,   ' y e a r ' ,   ' j o b ' ,   ' d e s c r i p t ' ,   ' s p o r t ' ,   ' d a t a ' ,   ' s c i e n t i s t ' ,   ' j o b ' ,   ' r o b i n ' ,   ' s e e k ' ,   ' d a t a ' ,   ' s c i e n t i s t ' ,   ' w o r k ' ,   ' p a r t n e r ' ,   ' f u n d ' ,   ' s t a r t u p ' ,   ' n y c ' ,   ' d e v e l o p ' ,   ' w o r l d ' ,   ' s i m p l e s t ' ,   ' i n t u i t ' ,   ' s p o r t ' ,   ' b e t ' ,   ' p r o d u c t ' ,   ' e v e r y o n ' ,   ' r a n g ' ,   ' h a r d c o r ' ,   ' s p o r t ' ,   ' v i e w e r ' ,   ' c a s u a l ' ,   ' f a n ' ,   ' c o m p a n i ' ,   ' a l s o ' ,   ' b u i l d ' ,   ' s y s t e m ' ,   ' p r o p r i e t a r i ' ,   ' m a c h i n ' ,   ' l e a r n ' ,   ' a l g o r i t h m ' ,   ' t e c h n o l o g ' ,   ' s y s t e m ' ,   ' g e n e r a t ' ,   ' i n h o u s ' ,   ' p r i c e ' ,   ' u n i q u ' ,   ' r e i m a g i n ' ,   ' b e t ' ,   ' p r o d u c t ' ,   ' h e a v i ' ,   ' f o c u s ' ,   ' l i v e ' ,   ' i n g a m ' ,   ' b e t ' ,   ' r o l e ' ,   ' h e l p ' ,   ' b u i l d ' ,   ' d e s i g n ' ,   ' s t a t i s t ' ,   ' m a c h i n ' ,   ' l e a r n ' ,   ' a l g o r i t h m ' ,   ' e n s u r ' ,   ' m a x i m u m ' ,   ' p r o f i t ' ,   ' p r i c e ' ,   ' s p o r t ' ,   ' m a r k e t ' ,   ' e f f i c i ' ,   ' i m p r o v ' ,   ' c u s t o m ' ,   ' m e t r i c ' ,   ' w e l l ' ,   ' r o l e ' ,   ' n e e d ' ,   ' f i r s t r a t ' ,   ' p r o b l e m ' ,   ' s o l v ' ,   ' s k i l l ' ,   ' i n t e r e s t ' ,   ' s p o r t ' ,   ' b e t ' ,   ' m a r k e t ' ,   ' w e l l ' ,   ' e x p e r i ' ,   ' s t a t i s t ' ,   ' m a c h i n ' ,   ' l e a r n ' ,   ' d a t a ' ,   ' s t r u c t u r ' ,   ' a l g o r i t h m ' ,   ' c o m p u t ' ,   ' s c i e n c ' ,   ' f u n d a m e n t ' ,   ' r e s p o n s ' ,   ' a p p l i ' ,   ' s t a t i s t ' ,   ' t e c h n i q u ' ,   ' a n a l y z ' ,   ' d a t a ' ,   ' e n g i n ' ,   ' r e l e v ' ,   ' s i g n a l ' ,   ' s p o r t ' ,   ' m a r k e t ' ,   ' p r i c e ' ,   ' i m p l e m e n t ' ,   ' b a s e l i n ' ,   ' m a c h i n ' ,   ' l e a r n i n g b a s ' ,   ' p r i c e ' ,   ' m o d e l ' ,   ' i m p r o v ' ,   ' u p o n ' ,   ' i t e r ' ,   ' l e a r n ' ,   ' i m p l e m e n t ' ,   ' c u t t i n g e d g ' ,   ' m a c h i n ' ,   ' l e a r n ' ,   ' a l g o r i t h m ' ,   ' i m p r o v ' ,   ' p r i c e ' ,   ' a c c u r a c i ' ,   ' w r i t e ' ,   ' p r o d u c t ' ,   ' w o r t h i ' ,   ' c o d e ' ,   ' p r o d u c t ' ,   ' a l g o r i t h m ' ,   ' d e s i g n ' ,   ' e n s u r ' ,   ' r u n ' ,   ' o n l i n ' ,   ' r e a l t i m ' ,   ' f a s h i o n ' ,   ' a p p l i ' ,   ' s t a t i s t ' ,   ' d e v e l o p ' ,   ' a l g o r i t h m ' ,   ' p r o b l e m ' ,   ' s p a c e ' ,   ' b e y o n d ' ,   ' p r i c e ' ,   ' m a r k e t ' ,   ' u s e r ' ,   ' t a i l o r ' ,   ' d e t e r m i n ' ,   ' b e t ' ,   ' l i m i t ' ,   ' m a n a g ' ,   ' r i s k ' ,   ' c o l l a b o r ' ,   ' m a n a g ' ,   ' a l i g n ' ,   ' a l g o r i t h m ' ,   ' d e v e l o p ' ,   ' c u s t o m ' ,   ' n e e d ' ,   ' b u s i ' ,   ' n e e d ' ,   ' d a t a ' ,   ' s c i e n c e r i s k ' ,   ' e n g i n ' ,   ' v i s i o n ' ,   ' p r o v i d ' ,   ' r e c o m m e n d ' ,   ' a l g o r i t h m ' ,   ' p r o b l e m ' ,   ' s p a c e ' ,   ' e x p l o r ' ,   ' w o r k ' ,   ' a n a l y z ' ,   ' i n h o u s ' ,   ' d a t a ' ,   ' r e q u i r ' ,   ' e x p e r i ' ,   ' s p o r t ' ,   ' a n a l y t ' ,   ' p r e f e r ' ,   ' e i t h e r ' ,   ' p e r s o n ' ,   ' s i d e ' ,   ' p r o j e c t ' ,   ' d i r e c t ' ,   ' w o r k ' ,   ' e x p e r i ' ,   ' b a c h e l o r ' ,   ' d e g r e ' ,   ' m a s t e r ' ,   ' d e g r e ' ,   ' p h ' ,   ' a c c r e d i t ' ,   ' u n i v e r s ' ,   ' c o l l e g ' ,   ' s t a t i s t ' ,   ' m a t h e m a t ' ,   ' r e l a t ' ,   ' q u a n t i t ' ,   ' f i e l d ' ,   ' s t r o n g ' ,   ' i n t e r e s t ' ,   ' s p o r t ' ,   ' s p o r t ' ,   ' m a r k e t ' ,   ' a n d o r ' ,   ' b e t ' ,   ' m a r k e t ' ,   ' s t r o n g ' ,   ' u n d e r s t a n d ' ,   ' p r o g r a m ' ,   ' c o m p u t ' ,   ' s c i e n c ' ,   ' f u n d a m e n t ' ,   ' s t r o n g ' ,   ' k n o w l e d g ' ,   ' s t a t i s t ' ,   ' a i m a c h i n ' ,   ' l e a r n ' ,   ' a l g o r i t h m ' ,   ' p a t t e r n ' ,   ' r e c o g n i t ' ,   ' t e c h n i q u ' ,   ' e x p e r i ' ,   ' p r o d u c t ' ,   ' a l g o r i t h m ' ,   ' i m p r o v ' ,   ' e f f i c i e n c y r u n t i m ' ,   ' u n d e r s t a n d ' ,   ' r e l a t ' ,   ' d a t a ' ,   ' p r o c e s s ' ,   ' l a n g u a g ' ,   ' s t r o n g ' ,   ' p r o b l e m ' ,   ' s o l v ' ,   ' c o m m u n i c ' ,   ' s k i l l ' ,   ' s a l a r i ' ,   ' 1 0 0 0 0 0 ' ,   ' 1 7 0 0 0 0 ' ,   ' d e p e n d ' ,   ' e x p e r i ' ,   ' e q u i t i ' ,   ' j o b ' ,   ' t y p e ' ,   ' f u l l t i m ' ,   ' s a l a r i ' ,   ' 1 0 0 0 0 0 0 0 ' ,   ' 1 7 0 0 0 0 0 0 ' ,   ' y e a r ' ,   ' e x p e r i ' ,   ' s p o r t ' ,   ' s p o r t ' ,   ' a n a l y t ' ,   ' b e t ' ,   ' 1 ' ,   ' y e a r ' ,   ' p r e f e r ' ]\",\n",
       "       ...,\n",
       "       \"[ ' l o c a t ' ,   ' c o n s h o h o c k e n ' ,   ' p a ' ,   ' t y p e ' ,   ' f u l l ' ,   ' t i m e ' ,   ' s t a r t ' ,   ' d a t e ' ,   ' i m m e d i ' ,   ' s r ' ,   ' d a t a ' ,   ' s c i e n t i s t ' ,   ' r s ' ,   ' e n e r g i ' ,   ' g r o u p ' ,   ' d a t a d r i v e n ' ,   ' o r g a n ' ,   ' s p e c i a l ' ,   ' d e l i v e r i ' ,   ' a d v a n c ' ,   ' a n a l y t ' ,   ' r e s e a r c h ' ,   ' d a t a ' ,   ' s c i e n c ' ,   ' a d v a n c ' ,   ' i n v e s t o r ' ,   ' p r o d u c ' ,   ' w o r l d ' ,   ' w o r k ' ,   ' i n n o v ' ,   ' f a s t p a c ' ,   ' d y n a m ' ,   ' e n v i r o n ' ,   ' i n t e r d i s c i p l i n a r i ' ,   ' t e a m ' ,   ' f o c u s ' ,   ' l e v e r a g ' ,   ' c u t t i n g e d g ' ,   ' t e c h n o l o g ' ,   ' d a t a ' ,   ' m a c h i n ' ,   ' l e a r n ' ,   ' u n c o v ' ,   ' u n i q u ' ,   ' i n v e s t ' ,   ' i d e a ' ,   ' p r o v i d ' ,   ' s o l u t ' ,   ' p r o d u c ' ,   ' h e a d q u a r t ' ,   ' c a l g a r i ' ,   ' o f f i c ' ,   ' h o u s t o n ' ,   ' n e w ' ,   ' y o r k ' ,   ' l o s ' ,   ' a n g e l ' ,   ' p h i l a d e l p h i a ' ,   ' d a t a ' ,   ' s c i e n t i s t ' ,   ' p o s i t ' ,   ' b a s e ' ,   ' c o n s h o h o c k e n ' ,   ' p a ' ,   ' o f f i c ' ,   ' i n c l u d ' ,   ' o p p o r t u n ' ,   ' w o r k ' ,   ' c l o s e ' ,   ' d o m a i n ' ,   ' s u b j e c t ' ,   ' m a t t e r ' ,   ' e x p e r t ' ,   ' a p p l i ' ,   ' s t a t i s t ' ,   ' d a t a ' ,   ' s c i e n c ' ,   ' t e c h n i q u ' ,   ' c r e a t ' ,   ' s o l u t ' ,   ' i n t e r e s t ' ,   ' c h a l l e n g ' ,   ' f a c e ' ,   ' a n a l y s i ' ,   ' o i l ' ,   ' g a s ' ,   ' a s s e t ' ,   ' t o d a y ' ,   ' r e s p o n s ' ,   ' b u i l d ' ,   ' d a t a ' ,   ' p r o d u c t ' ,   ' s o l v ' ,   ' b u s i ' ,   ' p r o b l e m ' ,   ' o i l ' ,   ' g a s ' ,   ' i n d u s t r i ' ,   ' d e v e l o p ' ,   ' p r o t o t y p ' ,   ' p r o d u c t ' ,   ' a d v a n c ' ,   ' p r e d i c t ' ,   ' m o d e l ' ,   ' m a c h i n ' ,   ' l e a r n ' ,   ' t o o l ' ,   ' w o r k ' ,   ' t o g e t h ' ,   ' d a t a ' ,   ' e n g i n ' ,   ' s o f t w a r ' ,   ' d e v e l o p ' ,   ' e v a l u ' ,   ' t e c h n i c ' ,   ' t r a d e o f f ' ,   ' t o o l ' ,   ' b u i l d ' ,   ' s i m p l ' ,   ' y e t ' ,   ' r o b u s t ' ,   ' d a t a ' ,   ' s c i e n c ' ,   ' p i p e l i n ' ,   ' r e q u i r ' ,   ' e x p e r i ' ,   ' a p p l i ' ,   ' m a c h i n ' ,   ' l e a r n ' ,   ' s t a t i s t ' ,   ' p r o d u c t ' ,   ' e n v i r o n ' ,   ' w r i t e ' ,   ' d e p l o y ' ,   ' p r o d u c t ' ,   ' c o d e ' ,   ' d e v e l o p ' ,   ' d a t a ' ,   ' p r o d u c t ' ,   ' u s e ' ,   ' n u m ' ,   ' p y ' ,   ' p a n d a ' ,   ' s c i k i t l e a r n ' ,   ' i m p l e m e n t ' ,   ' o p t i m ' ,   ' m e t h o d ' ,   ' d e e p ' ,   ' l e a r n ' ,   ' d e m o n s t r ' ,   ' a b i l ' ,   ' c o n d u c t ' ,   ' i n d e p e n d ' ,   ' r e s e a r c h ' ,   ' u t i l ' ,   ' l a r g ' ,   ' d a t a ' ,   ' s e t ' ,   ' m i n i m u m ' ,   ' 3 ' ,   ' y e a r ' ,   ' r e l a t ' ,   ' p r o f e s s i o n ' ,   ' e x p e r i ' ,   ' n i c e ' ,   ' r e q u i r ' ,   ' q u a n t i t ' ,   ' b a c k g r o u n d ' ,   ' a d v a n c ' ,   ' d e g r e ' ,   ' m a s t e r ' ,   ' s t a t i s t ' ,   ' c o m p u t ' ,   ' s c i e n c ' ,   ' i n f o r m a t ' ,   ' d a t a ' ,   ' s c i e n c ' ,   ' m a t h e m a t ' ,   ' o p e r ' ,   ' r e s e a r c h ' ,   ' e q u i v a l ' ,   ' e x p e r i ' ,   ' p r i o r ' ,   ' c o n s u l t ' ,   ' s o f t w a r ' ,   ' e n g i n ' ,   ' e x p e r i ' ,   ' e x p e r i ' ,   ' b u i l d ' ,   ' l a r g ' ,   ' s c a l e ' ,   ' d a t a ' ,   ' s c i e n c ' ,   ' p i p e l i n ' ,   ' f a m i l i a r ' ,   ' d a s k ' ,   ' e x p e r i ' ,   ' g e o s p a t i ' ,   ' g e o m e t r ' ,   ' p r o b l e m ' ,   ' r s ' ,   ' e n e r g i ' ,   ' g r o u p ' ,   ' o f f e r ' ,   ' c o m p e t i t ' ,   ' s a l a r i ' ,   ' g e n e r o u s ' ,   ' b e n e f i t ' ,   ' p a c k a g ' ,   ' u n b e a t ' ,   ' w o r k ' ,   ' e n v i r o n ' ,   ' g r e a t ' ,   ' t i m e ' ,   ' j o i n ' ,   ' o r g a n ' ]\",\n",
       "       \"[ ' q 2 ' ,   ' s e e k ' ,   ' e n e r g e t ' ,   ' i n n o v ' ,   ' “ o u t o f t h e b o x ” ' ,   ' t h i n k e r ' ,   ' p a s s i o n ' ,   ' s o f t w a r ' ,   ' t e c h n o l o g ' ,   ' j o i n ' ,   ' 2 0 1 9 ' ,   ' s u m m e r ' ,   ' i n t e r n ' ,   ' p r o g r a m ' ,   ' s u m m e r ' ,   ' i n t e r n s h i p ' ,   ' p r o g r a m ' ,   ' 1 2 w e e k ' ,   ' l o n g ' ,   ' b e g i n ' ,   ' m a y ' ,   ' 2 9 ' ,   ' 2 0 1 9 ' ,   ' p o s i t ' ,   ' p a i d ' ,   ' h o u r ' ,   ' a v e r a g ' ,   ' w o r k ' ,   ' w e e k ' ,   ' 4 0 ' ,   ' h o u r ' ,   ' a d d i t ' ,   ' p r o j e c t b a s ' ,   ' i n t e r n s h i p ' ,   ' r o l e ' ,   ' g i v e n ' ,   ' o p p o r t u n ' ,   ' w e e k ' ,   ' l e a r n ' ,   ' s e s s i o n ' ,   ' s r ' ,   ' l e a d e r s h i p ' ,   ' o f f s i t ' ,   ' a c t i v ' ,   ' q 2 ' ,   ' i n t e r n ' ,   ' o p p o r t u n ' ,   ' p r e s e n t ' ,   ' i n t e r n s h i p ' ,   ' e x p e r i ' ,   ' e x e c u t ' ,   ' l e a d e r s h i p ' ,   ' t e a m ' ,   ' e n d ' ,   ' p r o g r a m ' ,   ' s e e k ' ,   ' i m p l e m e n t ' ,   ' i n t e r n ' ,   ' d a t a ' ,   ' s c i e n t i s t ' ,   ' w o r k ' ,   ' i m p l e m e n t ' ,   ' t e a m ' ,   ' w o r k ' ,   ' c l o s e ' ,   ' s t r a t e g ' ,   ' c o n s u l t ' ,   ' p r e m i e r ' ,   ' s e r v i c ' ,   ' t e a m ' ,   ' d i s c o v ' ,   ' g o l d e n ' ,   ' n u g g e t ' ,   ' i n f o r m ' ,   ' b e n e f i t ' ,   ' t e a m ' ,   ' s h o r t e n ' ,   ' t i m e ' ,   ' m a r k e t ' ,   ' q 2 ' ,   ' p r o d u c t ' ,   ' e f f o r t ' ,   ' l e v e l ' ,   ' i n c l u d ' ,   ' l i g h t ' ,   ' e x p o s u r ' ,   ' b u s i ' ,   ' u n i t ' ,   ' s o f t w a r ' ,   ' c o m p a n i ' ,   ' c u s t o m ' ,   ' r e s p o n s ' ,   ' p r o v i d ' ,   ' d a t a d r i v e n ' ,   ' i n f o r m ' ,   ' c l i e n t ' ,   ' e n d ' ,   ' u s e r ' ,   ' i n t e r a c t ' ,   ' p r o d u c t ' ,   ' w o r k ' ,   ' s e n i o r ' ,   ' d a t a ' ,   ' s c i e n t i s t ' ,   ' t a c k l ' ,   ' r e a l ' ,   ' b u s i ' ,   ' i s s u ' ,   ' b u i l d ' ,   ' s t o r i ' ,   ' c e r t a i n ' ,   ' 3 r d ' ,   ' p a r t i ' ,   ' p r o d u c t ' ,   ' t i m e ' ,   ' m a r k e t ' ,   ' e f f o r t ' ,   ' l e v e l ' ,   ' r e s p o n s ' ,   ' e n s u r ' ,   ' s e c u r ' ,   ' a v a i l ' ,   ' c o n f i d e n t i ' ,   ' p r i v a c i ' ,   ' p o l i c i ' ,   ' c o n t r o l ' ,   ' a d h e r ' ,   ' e x p e r i ' ,   ' k n o w l e d g ' ,   ' p u r s u ' ,   ' d e g r e ' ,   ' q u a n t i t ' ,   ' f i e l d ' ,   ' e n g i n ' ,   ' c o m p u t ' ,   ' s c i e n c ' ,   ' m a t h e m a t ' ,   ' s t a t i s t ' ,   ' e c o n o m ' ,   ' p h y s i c ' ,   ' r e l a t ' ,   ' f i e l d ' ,   ' e x p e r i ' ,   ' w r i t e ' ,   ' c o d e ' ,   ' i n t e r p r e t ' ,   ' l a n g u a g ' ,   ' t c l ' ,   ' e t c ' ,   ' f a m i l i a r ' ,   ' v a r i o u s ' ,   ' m a c h i n ' ,   ' l e a r n ' ,   ' d e e p ' ,   ' l e a r n ' ,   ' m o d e l ' ,   ' a t t e n t ' ,   ' d e t a i l ' ,   ' e x c e p t ' ,   ' f o l l o w t h r o u g h ' ,   ' a b i l ' ,   ' p r i o r i t ' ,   ' s t a y ' ,   ' o r g a n ' ,   ' m u l t i t a s k ' ,   ' f a s t p a c ' ,   ' e n v i r o n ' ,   ' r e l e n t l e s s ' ,   ' p o s i t ' ,   ' d i s p o s i t ' ,   ' s t r o n g ' ,   ' w r i t t e n ' ,   ' o r a l ' ,   ' c o m m u n i c ' ,   ' s k i l l ' ,   ' i n c l u d ' ,   ' c o m m u n i c ' ,   ' t e c h n i c ' ,   ' c o n c e p t ' ,   ' n o n t e c h n ' ,   ' i n d i v i d u ' ,   ' b a c k g r o u n d ' ,   ' d a t a ' ,   ' e n g i n ' ,   ' a n d o r ' ,   ' d a t a ' ,   ' a n a l y s i ' ,   ' p l u s ' ,   ' d a t a b a s ' ,   ' k n o w l e d g ' ,   ' e x p e r t i s ' ,   ' a l s o ' ,   ' p l u s ' ]\",\n",
       "       \"[ ' r o l e ' ,   ' r e s p o n s ' ,   ' d e v e l o p ' ,   ' t e s t ' ,   ' v a l i d ' ,   ' s t a t i s t ' ,   ' s o u n d ' ,   ' p r e d i c t ' ,   ' m o d e l ' ,   ' d e s i g n ' ,   ' d e v e l o p ' ,   ' a n a l y t ' ,   ' s o l u t i o n s r e p o r t ' ,   ' s u p p o r t ' ,   ' r i s k ' ,   ' m a n a g ' ,   ' f i n a n c ' ,   ' o p e r ' ,   ' d e p a r t ' ,   ' u s e ' ,   ' b u s i ' ,   ' i n t e l l i g ' ,   ' t o o l ' ,   ' q l i k v i e w ' ,   ' a n a l y z ' ,   ' l a r g ' ,   ' d a t a ' ,   ' s e t ' ,   ' d i s c o v ' ,   ' t r e n d ' ,   ' p a t t e r n ' ,   ' a c t i o n ' ,   ' i n s i g h t ' ,   ' a p p l i ' ,   ' r e s e a r c h ' ,   ' e v a l u ' ,   ' s t a n d a r d ' ,   ' d e s c r i p t ' ,   ' s t a t i s t ' ,   ' d a t a ' ,   ' m a n a g ' ,   ' p r i n c i p l ' ,   ' t r a n s l a t ' ,   ' c o m p l e x ' ,   ' d a t a ' ,   ' m e a n i n g ' ,   ' c o n t e n t ' ,   ' d e s i g n ' ,   ' c r e a t ' ,   ' t e s t ' ,   ' m a i n t a i n ' ,   ' p o r t f o l i o ' ,   ' r e p o r t ' ,   ' s c o r e c a r d ' ,   ' d a s h b o a r d ' ,   ' m a n a g ' ,   ' i n d i v i d u ' ,   ' p r o j e c t ' ,   ' a s s i g n ' ,   ' e n s u r ' ,   ' a d h e r ' ,   ' s c h e d u l ' ,   ' w e l l ' ,   ' q u a l i t i ' ,   ' a c c u r a c i ' ,   ' d e l i v ' ,   ' r e s u l t ' ,   ' c r e a t ' ,   ' m a i n t a i n ' ,   ' d e t a i l ' ,   ' d o c u m e n t ' ,   ' e x i s t ' ,   ' w e l l ' ,   ' n e w l i ' ,   ' d e v e l o p ' ,   ' a n a l y t ' ,   ' r e p o r t ' ,   ' s y s t e m ' ,   ' r e q u i r ' ,   ' p r e f e r ' ,   ' e x p e r i ' ,   ' e d u c ' ,   ' r e q u i r ' ,   ' r e q u i r ' ,   ' b a c h e l o r ' ,   ' d e g r e ' ,   ' e c o n o m ' ,   ' m a t h ' ,   ' s c i e n c ' ,   ' f i n a n c ' ,   ' e n g i n ' ,   ' s i m i l a r ' ,   ' d i s c i p l i n ' ,   ' l e a s t ' ,   ' 1 ' ,   ' y e a r ' ,   ' e x p e r i ' ,   ' c o m f o r t ' ,   ' d e v e l o p ' ,   ' s t a t i s t ' ,   ' m o d e l ' ,   ' u s e ' ,   ' s t a t i s t ' ,   ' p a c k a g ' ,   ' p r e f e r ' ,   ' m a s t e r ' ,   ' d e g r e ' ,   ' e c o n o m ' ,   ' m a t h ' ,   ' s t a t i s t ' ,   ' f i n a n c ' ,   ' e n g i n ' ,   ' s i m i l a r ' ,   ' d i s c i p l i n ' ,   ' 1 ' ,   ' y e a r ' ,   ' e x p e r i ' ,   ' b u s i ' ,   ' a p p l i c ' ,   ' m a c h i n ' ,   ' l e a r n ' ,   ' t e c h n i q u ' ,   ' s t a t i s t ' ,   ' a n a l y s i ' ,   ' e x p e r i ' ,   ' d e v e l o p ' ,   ' h i g h ' ,   ' d e s i r ' ,   ' k n o w l e d g ' ,   ' s k i l l ' ,   ' a b i l ' ,   ' k s a ' ,   ' a n d o r ' ,   ' c o m p e t ' ,   ' s t r o n g ' ,   ' d a t a ' ,   ' a n a l y s i ' ,   ' c o m m u n i c ' ,   ' s k i l l ' ,   ' a b i l ' ,   ' l e a r n ' ,   ' n e w ' ,   ' s t a t i s t ' ,   ' m e t h o d ' ,   ' p a c k a g ' ]\"],\n",
       "      dtype=object)"
      ]
     },
     "execution_count": 156,
     "metadata": {},
     "output_type": "execute_result"
    }
   ],
   "source": [
    "get_top_sim(df)"
   ]
  },
  {
   "cell_type": "code",
   "execution_count": 42,
   "metadata": {},
   "outputs": [],
   "source": [
    "def get_top_sim(query_words, df):\n",
    "    #TO DO 1) here is where I need to incorporate semantic similiarty \n",
    "    #      2) can't stem prior to doing similiarty so need to unstem and then resteam\n",
    "    #      3) HERE IS WHERE I NEED TO DO THE STEMMING\n",
    "    \n",
    "\n",
    "    \n",
    "    query_words = [\" \".join(query)]\n",
    "    job_words = df.desc.apply(lambda x: \" \".join(x)).values.tolist() #this gives you a list of list of the jobs \n",
    "     \n",
    "    vectorizer = TfidfVectorizer() #make sure these defaults are correct\n",
    "    model = vectorizer.fit(job_words)\n",
    "    \n",
    "    query_tfidf = model.transform(query_words)\n",
    "    job_tfidf = model.transform(job_words)\n",
    "    \n",
    "    cosine_sim = cosine_similarity(query_tfidf,job_tfidf)\n",
    "    top_10_sim = cosine_sim.argsort()[0][::-1][0:10]\n",
    "    \n",
    "    return cosine_sim, top_10_sim"
   ]
  },
  {
   "cell_type": "code",
   "execution_count": 43,
   "metadata": {},
   "outputs": [],
   "source": [
    "def get_top_jobs(df,indices):\n",
    "    return df.iloc[indices,:]"
   ]
  },
  {
   "cell_type": "code",
   "execution_count": 72,
   "metadata": {},
   "outputs": [],
   "source": [
    "mle_df = pd.read_csv('machine_learning_engineer.csv')"
   ]
  },
  {
   "cell_type": "code",
   "execution_count": 133,
   "metadata": {},
   "outputs": [],
   "source": [
    "mle_df = mle_df.drop(index,axis = 0)"
   ]
  },
  {
   "cell_type": "code",
   "execution_count": 76,
   "metadata": {},
   "outputs": [
    {
     "data": {
      "text/plain": [
       "'https://www.indeed.com/rc/clk?jk=1b16d093ee6951c5&fccid=1fea2a7d8e897821&vjs=3'"
      ]
     },
     "execution_count": 76,
     "metadata": {},
     "output_type": "execute_result"
    }
   ],
   "source": [
    "mle_df.iloc[407,:].url #make it so that if desc == unaviable then they do not exist "
   ]
  },
  {
   "cell_type": "code",
   "execution_count": null,
   "metadata": {},
   "outputs": [],
   "source": [
    "#stemmer = SnowballStemmer('english') #get rid if this if you're going to do semantic similary\n",
    "        #text_no_skills = [stemmer.stem(word) for word in text_no_skills]"
   ]
  }
 ],
 "metadata": {
  "kernelspec": {
   "display_name": "Python 3",
   "language": "python",
   "name": "python3"
  },
  "language_info": {
   "codemirror_mode": {
    "name": "ipython",
    "version": 3
   },
   "file_extension": ".py",
   "mimetype": "text/x-python",
   "name": "python",
   "nbconvert_exporter": "python",
   "pygments_lexer": "ipython3",
   "version": "3.6.4"
  }
 },
 "nbformat": 4,
 "nbformat_minor": 2
}
